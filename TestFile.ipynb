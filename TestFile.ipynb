{
 "cells": [
  {
   "cell_type": "code",
   "execution_count": 3,
   "metadata": {},
   "outputs": [
    {
     "name": "stdout",
     "output_type": "stream",
     "text": [
      "   sepal length (cm)  sepal width (cm)  petal length (cm)  petal width (cm)  \\\n",
      "0                5.1               3.5                1.4               0.2   \n",
      "1                4.9               3.0                1.4               0.2   \n",
      "2                4.7               3.2                1.3               0.2   \n",
      "3                4.6               3.1                1.5               0.2   \n",
      "4                5.0               3.6                1.4               0.2   \n",
      "\n",
      "   target  \n",
      "0     0.0  \n",
      "1     0.0  \n",
      "2     0.0  \n",
      "3     0.0  \n",
      "4     0.0  \n",
      "<class 'rpy2.robjects.vectors.DataFrame'>\n",
      "<class 'pandas.core.frame.DataFrame'>\n",
      "<class 'rpy2.robjects.vectors.ListVector'>\n",
      "[[1]]\n",
      "\r\n",
      "[1] 5.55 6.15\n",
      "\r\n",
      "\n",
      "\r\n",
      "[[2]]\n",
      "\r\n",
      "[1] 2.95 3.35\n",
      "\r\n",
      "\n",
      "\r\n",
      "[[3]]\n",
      "\r\n",
      "[1] 2.45 4.75\n",
      "\r\n",
      "\n",
      "\r\n",
      "[[4]]\n",
      "\r\n",
      "[1] 0.80 1.75\n",
      "\r\n",
      "\n",
      "\n",
      "0\n",
      "1\n",
      "2\n",
      "3\n"
     ]
    }
   ],
   "source": [
    "# -*- coding: utf-8 -*-\n",
    "\"\"\"\n",
    "Created on Mon Dec 16 13:12:00 2019\n",
    "\n",
    "@author: Lab-722\n",
    "\"\"\"\n",
    "import pandas as pd\n",
    "import rpy2.robjects as robjects\n",
    "from rpy2.robjects.packages import importr\n",
    "from rpy2.robjects import pandas2ri\n",
    "pandas2ri.activate()\n",
    "import numpy as np\n",
    "\n",
    "from sklearn.datasets import load_iris\n",
    "iris = load_iris()\n",
    "data2 = pd.DataFrame(data= np.c_[iris['data'], iris['target']],\n",
    "                     columns= iris['feature_names'] + ['target'])\n",
    "# ---------------------Import R Package & Execute---------------------\n",
    "discretization = importr(\"discretization\")\n",
    "\n",
    "# ---------------------Load Data---------------------\n",
    "data1 = pd.read_csv(r'C:\\Users\\Lab-722\\Desktop\\Ming Test Model\\dataset\\GermanData_Numeric_withHeader.csv')\n",
    "\n",
    "\n",
    "# ---------------------Pass Dataframe to R---------------------\n",
    "\n",
    "# Discretize Data by R\n",
    "#pd_df_from_r = discretization.modChi2(dataSource, alp = 0.5)\n",
    "#pd_df_from_r = discretization.chi2(dataSource,0.5,0.05)\n",
    "pd_df_from_r = discretization.mdlp(data2)\n",
    "\n",
    "print (data2.head(5))\n",
    "disc_Topdown = robjects.r(\"disc.Topdown\")\n",
    "#pd_df_from_r = discretization.disc_Topdown(data1, method=1)\n",
    "\n",
    "# Discretization\n",
    "discretize_data = pd_df_from_r[1]\n",
    "print (type(discretize_data))\n",
    "discretize_data_dataframe = pandas2ri.ri2py(discretize_data)\n",
    "print(type(discretize_data_dataframe))\n",
    "\n",
    "# Enable Cutpoint\n",
    "cutpoint = pd_df_from_r[0]\n",
    "print (type(cutpoint))\n",
    "print (cutpoint)\n",
    "\n",
    "\n",
    "\n",
    "cut_df = pd.DataFrame()\n",
    "\n",
    "cutpoint_bins = np.array(cutpoint)\n",
    "labels = list(range(1, len(cutpoint_bins[0])))\n",
    "data_no_target = data2.iloc[:,:-1]\n",
    "for idx, val in enumerate(data_no_target):\n",
    "    cut_df[idx] = pd.cut(data2.iloc[:,idx], bins = cutpoint_bins[idx], labels =labels,include_lowest=True )    \n",
    "    print(idx)"
   ]
  },
  {
   "cell_type": "code",
   "execution_count": 5,
   "metadata": {},
   "outputs": [
    {
     "name": "stdout",
     "output_type": "stream",
     "text": [
      "   att1      att2    att3      att4      att5      att6     att7      att8  \\\n",
      "0     1  0.008534  1.2842  0.157270  0.171470  0.155150  1.00150  0.148630   \n",
      "1     2  0.002396  1.2752  0.013321  0.204090  0.011022  0.98506  0.162640   \n",
      "2     2  0.007048  0.9334  0.136920 -0.041394  0.024539  0.98450  0.181170   \n",
      "3     3  0.000373  1.1487  0.037113  0.108690  0.013079  0.75149  0.049189   \n",
      "4     3  0.000792  1.0015  0.013812  0.001336  0.011955  0.65263  0.028559   \n",
      "\n",
      "      att9     att10     att11  att12  \n",
      "0  0.77469  0.244870  0.196920      1  \n",
      "1  0.94581  0.107580  0.197270      1  \n",
      "2  0.58011  0.252640  0.187580      1  \n",
      "3  0.83961  0.110070  0.059626      1  \n",
      "4  0.89008  0.021594  0.031400      1  \n"
     ]
    }
   ],
   "source": [
    "# -*- coding: utf-8 -*-\n",
    "\"\"\"\n",
    "Created on Sat Dec 28 10:09:10 2019\n",
    "\n",
    "@author: Lab-722\n",
    "\"\"\"\n",
    "import pandas as pd\n",
    "dataSourceG = pd.read_csv(r'C:\\Users\\Lab-722\\Desktop\\Ming Test Model\\dataset\\Japanese_BankruptData_withHeader.csv')\n",
    "dataSourceF = pd.read_csv(r'C:\\Users\\Lab-722\\Desktop\\Ming Test Model\\dataset\\Japanese_BankruptData_withHeader.csv')\n",
    "\n",
    "Combine_X_y_train = pd.concat([dataSourceG, dataSourceF])\n",
    "print(Combine_X_y_train.head(5))"
   ]
  },
  {
   "cell_type": "code",
   "execution_count": 12,
   "metadata": {},
   "outputs": [
    {
     "name": "stdout",
     "output_type": "stream",
     "text": [
      "[0, 1, 2, 3, 4]\n"
     ]
    },
    {
     "data": {
      "text/plain": [
       "[1, 2, 3, 4, 5]"
      ]
     },
     "execution_count": 12,
     "metadata": {},
     "output_type": "execute_result"
    }
   ],
   "source": [
    "cutpoint_labels = list(range(0, 5))\n",
    "print(cutpoint_labels)\n",
    "list(map(lambda x: x + 1, cutpoint_labels))"
   ]
  },
  {
   "cell_type": "code",
   "execution_count": null,
   "metadata": {},
   "outputs": [],
   "source": []
  }
 ],
 "metadata": {
  "kernelspec": {
   "display_name": "Python 3",
   "language": "python",
   "name": "python3"
  },
  "language_info": {
   "codemirror_mode": {
    "name": "ipython",
    "version": 3
   },
   "file_extension": ".py",
   "mimetype": "text/x-python",
   "name": "python",
   "nbconvert_exporter": "python",
   "pygments_lexer": "ipython3",
   "version": "3.7.1"
  }
 },
 "nbformat": 4,
 "nbformat_minor": 2
}
